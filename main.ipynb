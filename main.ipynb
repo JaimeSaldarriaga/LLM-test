{
 "cells": [
  {
   "cell_type": "code",
   "execution_count": null,
   "metadata": {},
   "outputs": [],
   "source": [
    "import logging\n",
    "import pandas as pd\n",
    "from main import (\n",
    "    setup_environment,\n",
    "    load_data,\n",
    "    create_analysis_tools,\n",
    "    process_articles_in_parallel,\n",
    "    merge_news_price_data,\n",
    "    run_news_analysis,\n",
    "    run_relationship_analysis,\n",
    "    create_visualizations,\n",
    "    display_statistics,\n",
    ")\n",
    "\n",
    "logging.basicConfig(level=logging.INFO)\n",
    "logger = logging.getLogger(__name__)"
   ]
  },
  {
   "cell_type": "code",
   "execution_count": null,
   "metadata": {},
   "outputs": [],
   "source": [
    "def run_complete_analysis(sample_size: int, see_chain_of_thought: bool) -> dict:\n",
    "    \"\"\"Main function to orchestrate the entire process.\"\"\"\n",
    "    # Step 1: Setup\n",
    "    llm = setup_environment()\n",
    "\n",
    "    # Step 2: Data loading\n",
    "    news_sample, price_df = load_data(sample_size)\n",
    "\n",
    "    # Step 3: Create tools\n",
    "    analysis_tools = create_analysis_tools(llm)\n",
    "\n",
    "    # Step 4: Process articles\n",
    "    article_analyses = process_articles_in_parallel(news_sample, analysis_tools)\n",
    "\n",
    "    # Step 5: Create dataframe from results\n",
    "    analysis_sample = pd.DataFrame(article_analyses)\n",
    "    analysis_sample[\"date\"] = pd.to_datetime(analysis_sample[\"date\"])\n",
    "    merged_sample = merge_news_price_data(analysis_sample, price_df)\n",
    "\n",
    "    # Step 6: Run analyses\n",
    "    news_analysis = run_news_analysis(llm, analysis_sample, see_chain_of_thought)\n",
    "    logger.info(f\"News analysis:\\n{news_analysis}\")\n",
    "    relationship_analysis = run_relationship_analysis(\n",
    "        llm, merged_sample, see_chain_of_thought\n",
    "    )\n",
    "    logger.info(f\"News and prices relationship analysis:\\n{relationship_analysis}\")\n",
    "\n",
    "    # Step 7: Visualizations\n",
    "    create_visualizations(analysis_sample)\n",
    "\n",
    "    # Step 8: Display statistics\n",
    "    display_statistics(analysis_sample)\n",
    "\n",
    "    logger.info(\"Analysis complete!\")\n",
    "\n",
    "    return {\n",
    "        \"analysis_sample\": analysis_sample,\n",
    "        \"news_analysis\": news_analysis,\n",
    "        \"relationship_analysis\": relationship_analysis,\n",
    "    }"
   ]
  },
  {
   "cell_type": "code",
   "execution_count": null,
   "metadata": {},
   "outputs": [],
   "source": [
    "run_complete_analysis(sample_size=20, see_chain_of_thought=True)"
   ]
  }
 ],
 "metadata": {
  "language_info": {
   "name": "python"
  },
  "orig_nbformat": 4
 },
 "nbformat": 4,
 "nbformat_minor": 2
}
